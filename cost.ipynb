{
 "cells": [
  {
   "cell_type": "code",
   "execution_count": 2,
   "id": "95117f4d",
   "metadata": {},
   "outputs": [],
   "source": [
    "import numpy as np\n",
    "import copy"
   ]
  },
  {
   "cell_type": "code",
   "execution_count": 98,
   "id": "887afb0c",
   "metadata": {},
   "outputs": [],
   "source": [
    "action = ([1, 1, 1, 1, 1, 1, 1, 0, 0, 1])\n",
    "P = np.array([0,1,39,39*44+38,38,70*13,37,345,352,39*44])\n",
    "action\n",
    "W = np.random.randint(0,80,39*45)\n",
    "W_two = W.reshape((45, -1))"
   ]
  },
  {
   "cell_type": "code",
   "execution_count": 99,
   "id": "0e7aef00",
   "metadata": {},
   "outputs": [
    {
     "data": {
      "text/plain": [
       "array([[57, 33, 26, ..., 27, 41,  0],\n",
       "       [24,  2, 30, ..., 73, 14, 14],\n",
       "       [ 4, 67, 69, ..., 23, 63, 52],\n",
       "       ...,\n",
       "       [49, 20, 26, ..., 10, 54, 57],\n",
       "       [67, 70,  5, ..., 76, 60, 64],\n",
       "       [71, 12, 79, ..., 49,  3, 68]])"
      ]
     },
     "execution_count": 99,
     "metadata": {},
     "output_type": "execute_result"
    }
   ],
   "source": [
    "W_two"
   ]
  },
  {
   "cell_type": "code",
   "execution_count": 100,
   "id": "602c7666",
   "metadata": {
    "scrolled": true
   },
   "outputs": [
    {
     "name": "stdout",
     "output_type": "stream",
     "text": [
      "0 0\n",
      "[[57 33 26 11 46]\n",
      " [24  2 30 49 57]\n",
      " [ 4 67 69 29 14]\n",
      " [ 0 75 57 63  4]\n",
      " [57 22 24 34 23]]\n",
      "0 1\n",
      "[[677   0   0   0   0  43]\n",
      " [  0   0   0   0   0  59]\n",
      " [  0   0   0   0   0  23]\n",
      " [  0   0   0   0   0  78]\n",
      " [  0   0   0   0   0  54]]\n",
      "1 0\n",
      "[[  0 734   0   0   0]\n",
      " [  0   0   0   0   0]\n",
      " [  0   0   0   0   0]\n",
      " [  0   0   0   0   0]\n",
      " [  0   0   0   0   0]\n",
      " [ 65  39  22   1  14]]\n",
      "44 38\n",
      "[[13  2 62  7 33]\n",
      " [47 28  8 51  9]\n",
      " [24  4 10 54 57]\n",
      " [22 49 76 60 64]\n",
      " [50 37 49  3 68]]\n",
      "0 38\n",
      "[[39 41 27 41  0]\n",
      " [43 78 73 14 14]\n",
      " [ 1 55 23 63 52]\n",
      " [20 12  0 75  4]\n",
      " [32  4  6 15 61]]\n",
      "23 13\n",
      "[[43 23 15 60 30 48 70 30 65]\n",
      " [13 22 42 20 39 32 56 74 17]\n",
      " [15 53 65 66 76 10 18  8  5]\n",
      " [48 61 75 17  5 13  9 62 37]\n",
      " [61 55 74 58 58 18 61 32  8]\n",
      " [34 59 44 18 43 29 39 50 60]\n",
      " [54 58 10 55 57 73 54  5 50]\n",
      " [52 58 71 53 34 50 76 56  7]\n",
      " [76 34 48 23 43 63 53 22 31]]\n",
      "0 37\n",
      "[[ 51   0   0   0   0 593]\n",
      " [ 46   0   0   0   0   0]\n",
      " [ 61   0   0   0   0   0]\n",
      " [  5   0   0   0   0   0]\n",
      " [ 59   0   0   0   0   0]]\n",
      "44 0\n",
      "[[15 14 71  9 15]\n",
      " [23 40 23  1  1]\n",
      " [49 20 26 19 50]\n",
      " [67 70  5 41  1]\n",
      " [71 12 79 60 18]]\n"
     ]
    }
   ],
   "source": [
    "taxi = 0\n",
    "t = 0\n",
    "for index,act in enumerate(action): #TODO\n",
    "    if act:\n",
    "        around= get_around2(P[index],W_two,4)\n",
    "        around_load = sum(around.flatten()) #TODO\n",
    "        if(around_load > 200):\n",
    "            t = around_load - 200\n",
    "            around_load = 200\n",
    "            W[P[index]] = t\n",
    "        print(around)\n",
    "        "
   ]
  },
  {
   "cell_type": "code",
   "execution_count": 50,
   "id": "09b97459",
   "metadata": {},
   "outputs": [],
   "source": [
    "def get_around(index,W_two):\n",
    "    x = int(index / 39)\n",
    "    y = index % 39\n",
    "    print(x,y)\n",
    "    if y==0 and x == 0:\n",
    "        around = copy.deepcopy(W_two[x:(x+2), y:(y+2)])\n",
    "        W_two[x:(x+2), y:(y+2)] = 0\n",
    "        return around\n",
    "    elif y == 0:\n",
    "        around = copy.deepcopy(W_two[(x-1):(x+2), y:(y+2)])\n",
    "        W_two[(x-1):(x+2), y:(y+2)] =0\n",
    "        return around\n",
    "    elif x == 0:\n",
    "        around = copy.deepcopy(W_two[x:(x+2), (y-1):(y+2)])\n",
    "        W_two[x:(x+2), (y-1):(y+2)]= 0\n",
    "        return around \n",
    "    around =  copy.deepcopy(W_two[(x-1):(x+2), (y-1):(y+2)])\n",
    "    W_two[(x-1):(x+2), (y-1):(y+2)] = 0\n",
    "    return around\n",
    "    "
   ]
  },
  {
   "cell_type": "code",
   "execution_count": 61,
   "id": "c1b8bbb3",
   "metadata": {},
   "outputs": [
    {
     "data": {
      "text/plain": [
       "array([[28, 48, 67, ..., 35, 14, 45],\n",
       "       [41, 73, 77, ..., 26, 75, 25],\n",
       "       [28, 28, 38, ..., 63, 36, 69],\n",
       "       ...,\n",
       "       [11, 10, 66, ..., 61, 11, 51],\n",
       "       [11, 30,  6, ..., 16, 13, 44],\n",
       "       [56, 28, 36, ..., 27, 19,  9]])"
      ]
     },
     "execution_count": 61,
     "metadata": {},
     "output_type": "execute_result"
    }
   ],
   "source": [
    "action = ([1, 1, 1, 1, 1, 1, 1, 0, 0, 1])\n",
    "P = np.array([0,1,39,39*44+38,38,70,37,345,352,39*44])\n",
    "action\n",
    "W = np.random.randint(0,80,39*45)\n",
    "W_two = W.reshape((45, -1))\n",
    "W_two"
   ]
  },
  {
   "cell_type": "code",
   "execution_count": 83,
   "id": "144ced98",
   "metadata": {},
   "outputs": [
    {
     "data": {
      "text/plain": [
       "array([[11, 30],\n",
       "       [56, 28]])"
      ]
     },
     "execution_count": 83,
     "metadata": {},
     "output_type": "execute_result"
    }
   ],
   "source": [
    "W_two[43:46,0:2]"
   ]
  },
  {
   "cell_type": "code",
   "execution_count": 86,
   "id": "40cb7567",
   "metadata": {},
   "outputs": [],
   "source": [
    "def get_around2(index,W_two,bound):\n",
    "    x = int(index / 39)\n",
    "    y = index % 39\n",
    "    print(x,y)\n",
    "    bound_left_x = x - bound if (x - bound > 0) else 0\n",
    "    bound_left_y = y - bound if (y - bound > 0) else 0\n",
    "    bound_right_x = x + bound + 1\n",
    "    bound_right_y = y + bound + 1\n",
    "    around =  copy.deepcopy(W_two[bound_left_x:bound_right_x, bound_left_y:bound_right_y])\n",
    "    W_two[bound_left_x:bound_right_x, bound_left_y:bound_right_y]= 0\n",
    "    return around\n",
    "    "
   ]
  },
  {
   "cell_type": "code",
   "execution_count": null,
   "id": "97600cbe",
   "metadata": {},
   "outputs": [],
   "source": []
  }
 ],
 "metadata": {
  "kernelspec": {
   "display_name": "pytorch_evn",
   "language": "python",
   "name": "pytorch_evn"
  },
  "language_info": {
   "codemirror_mode": {
    "name": "ipython",
    "version": 3
   },
   "file_extension": ".py",
   "mimetype": "text/x-python",
   "name": "python",
   "nbconvert_exporter": "python",
   "pygments_lexer": "ipython3",
   "version": "3.8.13"
  },
  "toc": {
   "base_numbering": 1,
   "nav_menu": {},
   "number_sections": true,
   "sideBar": true,
   "skip_h1_title": false,
   "title_cell": "Table of Contents",
   "title_sidebar": "Contents",
   "toc_cell": false,
   "toc_position": {},
   "toc_section_display": true,
   "toc_window_display": false
  }
 },
 "nbformat": 4,
 "nbformat_minor": 5
}
