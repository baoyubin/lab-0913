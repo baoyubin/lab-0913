{
 "cells": [
  {
   "cell_type": "code",
   "execution_count": 7,
   "id": "c82ec249",
   "metadata": {},
   "outputs": [],
   "source": [
    "import torch\n",
    "import numpy as np"
   ]
  },
  {
   "cell_type": "code",
   "execution_count": 41,
   "id": "aba0d88d",
   "metadata": {},
   "outputs": [
    {
     "data": {
      "text/plain": [
       "array([[ 1,  2,  3,  5,  5,  6,  7,  8,  9, 10],\n",
       "       [ 1,  2,  3,  5,  5,  6,  7,  8, 19, 10]], dtype=int64)"
      ]
     },
     "execution_count": 41,
     "metadata": {},
     "output_type": "execute_result"
    }
   ],
   "source": [
    "q_value = torch.tensor([[1,2,3,5,5,6,7,8,9,10],[1,2,3,5,5,6,7,8,19,10]])\n",
    "index = torch.tensor([[1,1,0,1,1,4,5,6,6,1,1]])\n",
    "q_value\n",
    "ndarray = q_value.numpy()\n",
    "ndarray"
   ]
  },
  {
   "cell_type": "code",
   "execution_count": 16,
   "id": "311e5080",
   "metadata": {},
   "outputs": [
    {
     "data": {
      "text/plain": [
       "tensor([[2, 2, 1, 2, 2, 5, 6, 7, 7, 2, 2]])"
      ]
     },
     "execution_count": 16,
     "metadata": {},
     "output_type": "execute_result"
    }
   ],
   "source": [
    "a_q_value = torch.gather(input=q_value, dim=1, index=index)\n",
    "a_q_value"
   ]
  },
  {
   "cell_type": "code",
   "execution_count": 40,
   "id": "eb41dfae",
   "metadata": {},
   "outputs": [
    {
     "data": {
      "text/plain": [
       "array([[ 1,  2,  3,  5,  5,  6,  7,  8,  9, 10],\n",
       "       [ 1,  2,  3,  5,  5,  6,  7,  8, 19, 10]], dtype=int64)"
      ]
     },
     "execution_count": 40,
     "metadata": {},
     "output_type": "execute_result"
    }
   ],
   "source": []
  },
  {
   "cell_type": "code",
   "execution_count": 20,
   "id": "1b858c83",
   "metadata": {},
   "outputs": [
    {
     "data": {
      "text/plain": [
       "array([ 1,  2,  3,  4,  5,  6,  7,  8,  9, 10], dtype=int64)"
      ]
     },
     "execution_count": 20,
     "metadata": {},
     "output_type": "execute_result"
    }
   ],
   "source": [
    "ndarray[0]"
   ]
  },
  {
   "cell_type": "code",
   "execution_count": 53,
   "id": "ca583686",
   "metadata": {},
   "outputs": [
    {
     "name": "stdout",
     "output_type": "stream",
     "text": [
      "0 1\n",
      "1 2\n",
      "2 3\n",
      "3 5\n",
      "4 5\n",
      "5 6\n",
      "6 7\n",
      "7 8\n",
      "8 9\n",
      "9 10\n",
      "0 1\n",
      "1 2\n",
      "2 3\n",
      "3 5\n",
      "4 5\n",
      "5 6\n",
      "6 7\n",
      "7 8\n",
      "8 19\n",
      "9 10\n"
     ]
    }
   ],
   "source": [
    "for i in ndarray:\n",
    "   for j,val in enumerate(i):\n",
    "      print(j,val)"
   ]
  },
  {
   "cell_type": "code",
   "execution_count": 57,
   "id": "bb3bb4ba",
   "metadata": {},
   "outputs": [],
   "source": [
    "\n",
    "my_data = b'\\x00\\x00\\x80?\\x00\\x00\\x00@\\x00\\x00@@\\x00\\x00\\x80@'\n",
    "my_data\n"
   ]
  },
  {
   "cell_type": "code",
   "execution_count": 2,
   "id": "9b7e58f5",
   "metadata": {},
   "outputs": [
    {
     "data": {
      "text/plain": [
       "'01100011'"
      ]
     },
     "execution_count": 2,
     "metadata": {},
     "output_type": "execute_result"
    }
   ],
   "source": [
    "t = '01100011'\n",
    "t"
   ]
  },
  {
   "cell_type": "code",
   "execution_count": 65,
   "id": "46cbc0b1",
   "metadata": {},
   "outputs": [
    {
     "name": "stderr",
     "output_type": "stream",
     "text": [
      "C:\\Users\\鲍宇滨\\AppData\\Local\\Temp\\ipykernel_4732\\3795355809.py:1: DeprecationWarning: The binary mode of fromstring is deprecated, as it behaves surprisingly on unicode inputs. Use frombuffer instead\n",
      "  data = np.fromstring(t, np.int32)\n"
     ]
    }
   ],
   "source": [
    " data = np.fromstring(t, np.int32)"
   ]
  },
  {
   "cell_type": "code",
   "execution_count": 66,
   "id": "4b97fc52",
   "metadata": {},
   "outputs": [
    {
     "ename": "SyntaxError",
     "evalue": "invalid character in identifier (609567873.py, line 1)",
     "output_type": "error",
     "traceback": [
      "\u001b[1;36m  Input \u001b[1;32mIn [66]\u001b[1;36m\u001b[0m\n\u001b[1;33m    a = t.encode(encoding=”utf-8”,errors=”strict”)\u001b[0m\n\u001b[1;37m                             ^\u001b[0m\n\u001b[1;31mSyntaxError\u001b[0m\u001b[1;31m:\u001b[0m invalid character in identifier\n"
     ]
    }
   ],
   "source": [
    "a = t.encode(encoding=”utf-8”,errors=”strict”)"
   ]
  },
  {
   "cell_type": "code",
   "execution_count": 29,
   "id": "1b81ae6b",
   "metadata": {},
   "outputs": [
    {
     "data": {
      "text/plain": [
       "['0', '0', '0', '1', '1', '0', '0', '0', '1', '1']"
      ]
     },
     "execution_count": 29,
     "metadata": {},
     "output_type": "execute_result"
    }
   ],
   "source": [
    "list(t.rjust(10,'0'))"
   ]
  },
  {
   "cell_type": "code",
   "execution_count": 32,
   "id": "a90f38a4",
   "metadata": {},
   "outputs": [
    {
     "data": {
      "text/plain": [
       "array([0, 0, 0, 1, 1, 0, 0, 0, 1, 1])"
      ]
     },
     "execution_count": 32,
     "metadata": {},
     "output_type": "execute_result"
    }
   ],
   "source": [
    "np.array(list(t.rjust(10,'0')),dtype=np.int32)"
   ]
  },
  {
   "cell_type": "code",
   "execution_count": 34,
   "id": "2cd5b898",
   "metadata": {},
   "outputs": [
    {
     "ename": "TypeError",
     "evalue": "'int' object is not iterable",
     "output_type": "error",
     "traceback": [
      "\u001b[1;31m---------------------------------------------------------------------------\u001b[0m",
      "\u001b[1;31mTypeError\u001b[0m                                 Traceback (most recent call last)",
      "Input \u001b[1;32mIn [34]\u001b[0m, in \u001b[0;36m<cell line: 4>\u001b[1;34m()\u001b[0m\n\u001b[0;32m      4\u001b[0m \u001b[38;5;28;01mfor\u001b[39;00m i \u001b[38;5;129;01min\u001b[39;00m ndarray:\n\u001b[0;32m      5\u001b[0m     index \u001b[38;5;241m=\u001b[39m \u001b[38;5;241m0\u001b[39m\n\u001b[1;32m----> 6\u001b[0m     \u001b[38;5;28;01mfor\u001b[39;00m idx, val \u001b[38;5;129;01min\u001b[39;00m \u001b[38;5;28;43menumerate\u001b[39;49m\u001b[43m(\u001b[49m\u001b[43mi\u001b[49m\u001b[43m)\u001b[49m:\n\u001b[0;32m      7\u001b[0m         index \u001b[38;5;241m+\u001b[39m\u001b[38;5;241m=\u001b[39m val \u001b[38;5;241m*\u001b[39m \u001b[38;5;241m2\u001b[39m \u001b[38;5;241m*\u001b[39m\u001b[38;5;241m*\u001b[39m idx\n\u001b[0;32m      8\u001b[0m     a_list\u001b[38;5;241m.\u001b[39mappend(index)\n",
      "\u001b[1;31mTypeError\u001b[0m: 'int' object is not iterable"
     ]
    }
   ],
   "source": [
    "index = 0\n",
    "ndarray = batch_a.numpy()\n",
    "a_list = []\n",
    "for i in ndarray:\n",
    "    index = 0\n",
    "    for idx, val in enumerate(i):\n",
    "        index += val * 2 ** idx\n",
    "    a_list.append(index)\n",
    "a_list = torch.LongTensor(a_list).unsqueeze(1)"
   ]
  },
  {
   "cell_type": "code",
   "execution_count": null,
   "id": "19b551ac",
   "metadata": {},
   "outputs": [],
   "source": []
  }
 ],
 "metadata": {
  "kernelspec": {
   "display_name": "Python 3 (ipykernel)",
   "language": "python",
   "name": "python3"
  },
  "language_info": {
   "codemirror_mode": {
    "name": "ipython",
    "version": 3
   },
   "file_extension": ".py",
   "mimetype": "text/x-python",
   "name": "python",
   "nbconvert_exporter": "python",
   "pygments_lexer": "ipython3",
   "version": "3.8.13"
  },
  "toc": {
   "base_numbering": 1,
   "nav_menu": {},
   "number_sections": true,
   "sideBar": true,
   "skip_h1_title": false,
   "title_cell": "Table of Contents",
   "title_sidebar": "Contents",
   "toc_cell": false,
   "toc_position": {},
   "toc_section_display": true,
   "toc_window_display": false
  }
 },
 "nbformat": 4,
 "nbformat_minor": 5
}
